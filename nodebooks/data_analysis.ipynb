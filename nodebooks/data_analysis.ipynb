{
 "cells": [
  {
   "cell_type": "code",
   "execution_count": 1,
   "metadata": {},
   "outputs": [],
   "source": [
    "import pandas as pd\n",
    "import seaborn as sns\n",
    "import matplotlib.pyplot as plt"
   ]
  },
  {
   "cell_type": "code",
   "execution_count": 2,
   "metadata": {},
   "outputs": [
    {
     "name": "stderr",
     "output_type": "stream",
     "text": [
      "/tmp/ipykernel_216566/1149116417.py:1: ParserWarning: Falling back to the 'python' engine because the 'c' engine does not support regex separators (separators > 1 char and different from '\\s+' are interpreted as regex); you can avoid this warning by specifying engine='python'.\n",
      "  df = pd.read_csv(\"../data/part_1.csv\", sep=\"[,;:]\", index_col=False)\n"
     ]
    },
    {
     "data": {
      "text/html": [
       "<div>\n",
       "<style scoped>\n",
       "    .dataframe tbody tr th:only-of-type {\n",
       "        vertical-align: middle;\n",
       "    }\n",
       "\n",
       "    .dataframe tbody tr th {\n",
       "        vertical-align: top;\n",
       "    }\n",
       "\n",
       "    .dataframe thead th {\n",
       "        text-align: right;\n",
       "    }\n",
       "</style>\n",
       "<table border=\"1\" class=\"dataframe\">\n",
       "  <thead>\n",
       "    <tr style=\"text-align: right;\">\n",
       "      <th></th>\n",
       "      <th>Empty Dataset</th>\n",
       "    </tr>\n",
       "  </thead>\n",
       "  <tbody>\n",
       "  </tbody>\n",
       "</table>\n",
       "</div>"
      ],
      "text/plain": [
       "Empty DataFrame\n",
       "Columns: [Empty Dataset]\n",
       "Index: []"
      ]
     },
     "execution_count": 2,
     "metadata": {},
     "output_type": "execute_result"
    }
   ],
   "source": [
    "df = pd.read_csv(\"../data/part_1.csv\", sep=\"[,;:]\", index_col=False)\n",
    "df.tail()"
   ]
  },
  {
   "cell_type": "code",
   "execution_count": 6,
   "metadata": {},
   "outputs": [
    {
     "data": {
      "text/plain": [
       "(0, 1)"
      ]
     },
     "execution_count": 6,
     "metadata": {},
     "output_type": "execute_result"
    }
   ],
   "source": [
    "df.shape"
   ]
  },
  {
   "cell_type": "code",
   "execution_count": 17,
   "metadata": {},
   "outputs": [
    {
     "data": {
      "text/plain": [
       "track_id         int64\n",
       " type           object\n",
       " traveled_d    float64\n",
       " avg_speed     float64\n",
       " lat           float64\n",
       " lon           float64\n",
       " speed         float64\n",
       " lon_acc       float64\n",
       " lat_acc       float64\n",
       " time          float64\n",
       "dtype: object"
      ]
     },
     "execution_count": 17,
     "metadata": {},
     "output_type": "execute_result"
    }
   ],
   "source": [
    "df.dtypes"
   ]
  },
  {
   "cell_type": "code",
   "execution_count": 18,
   "metadata": {},
   "outputs": [
    {
     "data": {
      "text/html": [
       "<div>\n",
       "<style scoped>\n",
       "    .dataframe tbody tr th:only-of-type {\n",
       "        vertical-align: middle;\n",
       "    }\n",
       "\n",
       "    .dataframe tbody tr th {\n",
       "        vertical-align: top;\n",
       "    }\n",
       "\n",
       "    .dataframe thead th {\n",
       "        text-align: right;\n",
       "    }\n",
       "</style>\n",
       "<table border=\"1\" class=\"dataframe\">\n",
       "  <thead>\n",
       "    <tr style=\"text-align: right;\">\n",
       "      <th></th>\n",
       "      <th>track_id</th>\n",
       "      <th>traveled_d</th>\n",
       "      <th>avg_speed</th>\n",
       "      <th>lat</th>\n",
       "      <th>lon</th>\n",
       "      <th>speed</th>\n",
       "      <th>lon_acc</th>\n",
       "      <th>lat_acc</th>\n",
       "      <th>time</th>\n",
       "    </tr>\n",
       "  </thead>\n",
       "  <tbody>\n",
       "    <tr>\n",
       "      <th>count</th>\n",
       "      <td>922.000000</td>\n",
       "      <td>922.000000</td>\n",
       "      <td>922.000000</td>\n",
       "      <td>922.000000</td>\n",
       "      <td>922.000000</td>\n",
       "      <td>922.000000</td>\n",
       "      <td>922.000000</td>\n",
       "      <td>922.000000</td>\n",
       "      <td>922.000000</td>\n",
       "    </tr>\n",
       "    <tr>\n",
       "      <th>mean</th>\n",
       "      <td>461.500000</td>\n",
       "      <td>289.670954</td>\n",
       "      <td>21.442594</td>\n",
       "      <td>37.979616</td>\n",
       "      <td>23.735713</td>\n",
       "      <td>26.665285</td>\n",
       "      <td>0.027862</td>\n",
       "      <td>-0.029128</td>\n",
       "      <td>375.451193</td>\n",
       "    </tr>\n",
       "    <tr>\n",
       "      <th>std</th>\n",
       "      <td>266.302773</td>\n",
       "      <td>156.386219</td>\n",
       "      <td>10.812071</td>\n",
       "      <td>0.001116</td>\n",
       "      <td>0.000877</td>\n",
       "      <td>12.093874</td>\n",
       "      <td>0.640003</td>\n",
       "      <td>0.286584</td>\n",
       "      <td>256.324209</td>\n",
       "    </tr>\n",
       "    <tr>\n",
       "      <th>min</th>\n",
       "      <td>1.000000</td>\n",
       "      <td>9.370000</td>\n",
       "      <td>0.096770</td>\n",
       "      <td>37.977138</td>\n",
       "      <td>23.734913</td>\n",
       "      <td>0.000000</td>\n",
       "      <td>-6.686200</td>\n",
       "      <td>-3.285300</td>\n",
       "      <td>0.000000</td>\n",
       "    </tr>\n",
       "    <tr>\n",
       "      <th>25%</th>\n",
       "      <td>231.250000</td>\n",
       "      <td>169.640000</td>\n",
       "      <td>13.817063</td>\n",
       "      <td>37.978412</td>\n",
       "      <td>23.735084</td>\n",
       "      <td>18.487350</td>\n",
       "      <td>-0.020950</td>\n",
       "      <td>-0.061575</td>\n",
       "      <td>129.850000</td>\n",
       "    </tr>\n",
       "    <tr>\n",
       "      <th>50%</th>\n",
       "      <td>461.500000</td>\n",
       "      <td>283.355000</td>\n",
       "      <td>19.847800</td>\n",
       "      <td>37.980103</td>\n",
       "      <td>23.735482</td>\n",
       "      <td>27.282050</td>\n",
       "      <td>0.021200</td>\n",
       "      <td>-0.005650</td>\n",
       "      <td>390.300000</td>\n",
       "    </tr>\n",
       "    <tr>\n",
       "      <th>75%</th>\n",
       "      <td>691.750000</td>\n",
       "      <td>459.822500</td>\n",
       "      <td>28.778046</td>\n",
       "      <td>37.980609</td>\n",
       "      <td>23.735838</td>\n",
       "      <td>34.904025</td>\n",
       "      <td>0.073225</td>\n",
       "      <td>0.035575</td>\n",
       "      <td>595.850000</td>\n",
       "    </tr>\n",
       "    <tr>\n",
       "      <th>max</th>\n",
       "      <td>922.000000</td>\n",
       "      <td>502.330000</td>\n",
       "      <td>52.992695</td>\n",
       "      <td>37.980657</td>\n",
       "      <td>23.738231</td>\n",
       "      <td>71.491100</td>\n",
       "      <td>7.680200</td>\n",
       "      <td>1.743800</td>\n",
       "      <td>813.400000</td>\n",
       "    </tr>\n",
       "  </tbody>\n",
       "</table>\n",
       "</div>"
      ],
      "text/plain": [
       "         track_id   traveled_d   avg_speed         lat         lon  \\\n",
       "count  922.000000   922.000000  922.000000  922.000000  922.000000   \n",
       "mean   461.500000   289.670954   21.442594   37.979616   23.735713   \n",
       "std    266.302773   156.386219   10.812071    0.001116    0.000877   \n",
       "min      1.000000     9.370000    0.096770   37.977138   23.734913   \n",
       "25%    231.250000   169.640000   13.817063   37.978412   23.735084   \n",
       "50%    461.500000   283.355000   19.847800   37.980103   23.735482   \n",
       "75%    691.750000   459.822500   28.778046   37.980609   23.735838   \n",
       "max    922.000000   502.330000   52.992695   37.980657   23.738231   \n",
       "\n",
       "            speed     lon_acc     lat_acc        time  \n",
       "count  922.000000  922.000000  922.000000  922.000000  \n",
       "mean    26.665285    0.027862   -0.029128  375.451193  \n",
       "std     12.093874    0.640003    0.286584  256.324209  \n",
       "min      0.000000   -6.686200   -3.285300    0.000000  \n",
       "25%     18.487350   -0.020950   -0.061575  129.850000  \n",
       "50%     27.282050    0.021200   -0.005650  390.300000  \n",
       "75%     34.904025    0.073225    0.035575  595.850000  \n",
       "max     71.491100    7.680200    1.743800  813.400000  "
      ]
     },
     "execution_count": 18,
     "metadata": {},
     "output_type": "execute_result"
    }
   ],
   "source": [
    "df.describe()"
   ]
  }
 ],
 "metadata": {
  "kernelspec": {
   "display_name": "tenx_week2",
   "language": "python",
   "name": "python3"
  },
  "language_info": {
   "codemirror_mode": {
    "name": "ipython",
    "version": 3
   },
   "file_extension": ".py",
   "mimetype": "text/x-python",
   "name": "python",
   "nbconvert_exporter": "python",
   "pygments_lexer": "ipython3",
   "version": "3.8.18"
  }
 },
 "nbformat": 4,
 "nbformat_minor": 2
}
